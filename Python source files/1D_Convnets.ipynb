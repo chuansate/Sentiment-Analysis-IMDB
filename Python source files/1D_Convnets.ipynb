{
  "nbformat": 4,
  "nbformat_minor": 0,
  "metadata": {
    "colab": {
      "provenance": [],
      "gpuType": "T4"
    },
    "kernelspec": {
      "name": "python3",
      "display_name": "Python 3"
    },
    "language_info": {
      "name": "python"
    },
    "accelerator": "GPU"
  },
  "cells": [
    {
      "cell_type": "code",
      "source": [
        "from google.colab import drive\n",
        "drive.mount('/content/drive')"
      ],
      "metadata": {
        "colab": {
          "base_uri": "https://localhost:8080/"
        },
        "id": "a0qBn5k3yVCi",
        "outputId": "f93232ab-395d-46ef-cbbd-2634252251fb"
      },
      "execution_count": null,
      "outputs": [
        {
          "output_type": "stream",
          "name": "stdout",
          "text": [
            "Drive already mounted at /content/drive; to attempt to forcibly remount, call drive.mount(\"/content/drive\", force_remount=True).\n"
          ]
        }
      ]
    },
    {
      "cell_type": "code",
      "execution_count": null,
      "metadata": {
        "colab": {
          "base_uri": "https://localhost:8080/"
        },
        "id": "_ZM7HI3Iwdyy",
        "outputId": "6ec1ce68-6c26-401d-c4dd-7028360008ea"
      },
      "outputs": [
        {
          "output_type": "stream",
          "name": "stderr",
          "text": [
            "[nltk_data] Downloading package stopwords to /root/nltk_data...\n",
            "[nltk_data]   Package stopwords is already up-to-date!\n"
          ]
        }
      ],
      "source": [
        "import numpy as np\n",
        "import pandas as pd\n",
        "import matplotlib.pyplot as plt\n",
        "import re\n",
        "import string\n",
        "import math\n",
        "import nltk\n",
        "nltk.download('stopwords')\n",
        "from nltk.corpus import stopwords\n",
        "from sklearn.model_selection import train_test_split"
      ]
    },
    {
      "cell_type": "code",
      "source": [
        "path_ds = \"/content/drive/MyDrive/Colab Notebooks/Text Analysis and Sentiment Analysis/Assignment/cleaned_IMDB_Dataset.csv\"\n",
        "df = pd.read_csv(path_ds)\n",
        "\n",
        "print(df.shape)"
      ],
      "metadata": {
        "colab": {
          "base_uri": "https://localhost:8080/"
        },
        "id": "b8nom9ThxmE3",
        "outputId": "b5abb0f2-8560-4545-b2c1-6829c73b093a"
      },
      "execution_count": null,
      "outputs": [
        {
          "output_type": "stream",
          "name": "stdout",
          "text": [
            "(50000, 2)\n"
          ]
        }
      ]
    },
    {
      "cell_type": "code",
      "source": [
        "frequencies = df[\"sentiment\"].value_counts()\n",
        "frequencies.to_frame()"
      ],
      "metadata": {
        "colab": {
          "base_uri": "https://localhost:8080/",
          "height": 112
        },
        "id": "2xXU6-Vg1YcV",
        "outputId": "5440c3a0-d116-4b17-9150-d06cf34ac7ae"
      },
      "execution_count": null,
      "outputs": [
        {
          "output_type": "execute_result",
          "data": {
            "text/plain": [
              "          sentiment\n",
              "positive      25000\n",
              "negative      25000"
            ],
            "text/html": [
              "\n",
              "  <div id=\"df-a80b0fa9-c1d0-4278-9fc7-935cc38da2ff\" class=\"colab-df-container\">\n",
              "    <div>\n",
              "<style scoped>\n",
              "    .dataframe tbody tr th:only-of-type {\n",
              "        vertical-align: middle;\n",
              "    }\n",
              "\n",
              "    .dataframe tbody tr th {\n",
              "        vertical-align: top;\n",
              "    }\n",
              "\n",
              "    .dataframe thead th {\n",
              "        text-align: right;\n",
              "    }\n",
              "</style>\n",
              "<table border=\"1\" class=\"dataframe\">\n",
              "  <thead>\n",
              "    <tr style=\"text-align: right;\">\n",
              "      <th></th>\n",
              "      <th>sentiment</th>\n",
              "    </tr>\n",
              "  </thead>\n",
              "  <tbody>\n",
              "    <tr>\n",
              "      <th>positive</th>\n",
              "      <td>25000</td>\n",
              "    </tr>\n",
              "    <tr>\n",
              "      <th>negative</th>\n",
              "      <td>25000</td>\n",
              "    </tr>\n",
              "  </tbody>\n",
              "</table>\n",
              "</div>\n",
              "    <div class=\"colab-df-buttons\">\n",
              "\n",
              "  <div class=\"colab-df-container\">\n",
              "    <button class=\"colab-df-convert\" onclick=\"convertToInteractive('df-a80b0fa9-c1d0-4278-9fc7-935cc38da2ff')\"\n",
              "            title=\"Convert this dataframe to an interactive table.\"\n",
              "            style=\"display:none;\">\n",
              "\n",
              "  <svg xmlns=\"http://www.w3.org/2000/svg\" height=\"24px\" viewBox=\"0 -960 960 960\">\n",
              "    <path d=\"M120-120v-720h720v720H120Zm60-500h600v-160H180v160Zm220 220h160v-160H400v160Zm0 220h160v-160H400v160ZM180-400h160v-160H180v160Zm440 0h160v-160H620v160ZM180-180h160v-160H180v160Zm440 0h160v-160H620v160Z\"/>\n",
              "  </svg>\n",
              "    </button>\n",
              "\n",
              "  <style>\n",
              "    .colab-df-container {\n",
              "      display:flex;\n",
              "      gap: 12px;\n",
              "    }\n",
              "\n",
              "    .colab-df-convert {\n",
              "      background-color: #E8F0FE;\n",
              "      border: none;\n",
              "      border-radius: 50%;\n",
              "      cursor: pointer;\n",
              "      display: none;\n",
              "      fill: #1967D2;\n",
              "      height: 32px;\n",
              "      padding: 0 0 0 0;\n",
              "      width: 32px;\n",
              "    }\n",
              "\n",
              "    .colab-df-convert:hover {\n",
              "      background-color: #E2EBFA;\n",
              "      box-shadow: 0px 1px 2px rgba(60, 64, 67, 0.3), 0px 1px 3px 1px rgba(60, 64, 67, 0.15);\n",
              "      fill: #174EA6;\n",
              "    }\n",
              "\n",
              "    .colab-df-buttons div {\n",
              "      margin-bottom: 4px;\n",
              "    }\n",
              "\n",
              "    [theme=dark] .colab-df-convert {\n",
              "      background-color: #3B4455;\n",
              "      fill: #D2E3FC;\n",
              "    }\n",
              "\n",
              "    [theme=dark] .colab-df-convert:hover {\n",
              "      background-color: #434B5C;\n",
              "      box-shadow: 0px 1px 3px 1px rgba(0, 0, 0, 0.15);\n",
              "      filter: drop-shadow(0px 1px 2px rgba(0, 0, 0, 0.3));\n",
              "      fill: #FFFFFF;\n",
              "    }\n",
              "  </style>\n",
              "\n",
              "    <script>\n",
              "      const buttonEl =\n",
              "        document.querySelector('#df-a80b0fa9-c1d0-4278-9fc7-935cc38da2ff button.colab-df-convert');\n",
              "      buttonEl.style.display =\n",
              "        google.colab.kernel.accessAllowed ? 'block' : 'none';\n",
              "\n",
              "      async function convertToInteractive(key) {\n",
              "        const element = document.querySelector('#df-a80b0fa9-c1d0-4278-9fc7-935cc38da2ff');\n",
              "        const dataTable =\n",
              "          await google.colab.kernel.invokeFunction('convertToInteractive',\n",
              "                                                    [key], {});\n",
              "        if (!dataTable) return;\n",
              "\n",
              "        const docLinkHtml = 'Like what you see? Visit the ' +\n",
              "          '<a target=\"_blank\" href=https://colab.research.google.com/notebooks/data_table.ipynb>data table notebook</a>'\n",
              "          + ' to learn more about interactive tables.';\n",
              "        element.innerHTML = '';\n",
              "        dataTable['output_type'] = 'display_data';\n",
              "        await google.colab.output.renderOutput(dataTable, element);\n",
              "        const docLink = document.createElement('div');\n",
              "        docLink.innerHTML = docLinkHtml;\n",
              "        element.appendChild(docLink);\n",
              "      }\n",
              "    </script>\n",
              "  </div>\n",
              "\n",
              "\n",
              "<div id=\"df-e21aa952-2e29-44b2-8a37-9ddc8a08319f\">\n",
              "  <button class=\"colab-df-quickchart\" onclick=\"quickchart('df-e21aa952-2e29-44b2-8a37-9ddc8a08319f')\"\n",
              "            title=\"Suggest charts\"\n",
              "            style=\"display:none;\">\n",
              "\n",
              "<svg xmlns=\"http://www.w3.org/2000/svg\" height=\"24px\"viewBox=\"0 0 24 24\"\n",
              "     width=\"24px\">\n",
              "    <g>\n",
              "        <path d=\"M19 3H5c-1.1 0-2 .9-2 2v14c0 1.1.9 2 2 2h14c1.1 0 2-.9 2-2V5c0-1.1-.9-2-2-2zM9 17H7v-7h2v7zm4 0h-2V7h2v10zm4 0h-2v-4h2v4z\"/>\n",
              "    </g>\n",
              "</svg>\n",
              "  </button>\n",
              "\n",
              "<style>\n",
              "  .colab-df-quickchart {\n",
              "      --bg-color: #E8F0FE;\n",
              "      --fill-color: #1967D2;\n",
              "      --hover-bg-color: #E2EBFA;\n",
              "      --hover-fill-color: #174EA6;\n",
              "      --disabled-fill-color: #AAA;\n",
              "      --disabled-bg-color: #DDD;\n",
              "  }\n",
              "\n",
              "  [theme=dark] .colab-df-quickchart {\n",
              "      --bg-color: #3B4455;\n",
              "      --fill-color: #D2E3FC;\n",
              "      --hover-bg-color: #434B5C;\n",
              "      --hover-fill-color: #FFFFFF;\n",
              "      --disabled-bg-color: #3B4455;\n",
              "      --disabled-fill-color: #666;\n",
              "  }\n",
              "\n",
              "  .colab-df-quickchart {\n",
              "    background-color: var(--bg-color);\n",
              "    border: none;\n",
              "    border-radius: 50%;\n",
              "    cursor: pointer;\n",
              "    display: none;\n",
              "    fill: var(--fill-color);\n",
              "    height: 32px;\n",
              "    padding: 0;\n",
              "    width: 32px;\n",
              "  }\n",
              "\n",
              "  .colab-df-quickchart:hover {\n",
              "    background-color: var(--hover-bg-color);\n",
              "    box-shadow: 0 1px 2px rgba(60, 64, 67, 0.3), 0 1px 3px 1px rgba(60, 64, 67, 0.15);\n",
              "    fill: var(--button-hover-fill-color);\n",
              "  }\n",
              "\n",
              "  .colab-df-quickchart-complete:disabled,\n",
              "  .colab-df-quickchart-complete:disabled:hover {\n",
              "    background-color: var(--disabled-bg-color);\n",
              "    fill: var(--disabled-fill-color);\n",
              "    box-shadow: none;\n",
              "  }\n",
              "\n",
              "  .colab-df-spinner {\n",
              "    border: 2px solid var(--fill-color);\n",
              "    border-color: transparent;\n",
              "    border-bottom-color: var(--fill-color);\n",
              "    animation:\n",
              "      spin 1s steps(1) infinite;\n",
              "  }\n",
              "\n",
              "  @keyframes spin {\n",
              "    0% {\n",
              "      border-color: transparent;\n",
              "      border-bottom-color: var(--fill-color);\n",
              "      border-left-color: var(--fill-color);\n",
              "    }\n",
              "    20% {\n",
              "      border-color: transparent;\n",
              "      border-left-color: var(--fill-color);\n",
              "      border-top-color: var(--fill-color);\n",
              "    }\n",
              "    30% {\n",
              "      border-color: transparent;\n",
              "      border-left-color: var(--fill-color);\n",
              "      border-top-color: var(--fill-color);\n",
              "      border-right-color: var(--fill-color);\n",
              "    }\n",
              "    40% {\n",
              "      border-color: transparent;\n",
              "      border-right-color: var(--fill-color);\n",
              "      border-top-color: var(--fill-color);\n",
              "    }\n",
              "    60% {\n",
              "      border-color: transparent;\n",
              "      border-right-color: var(--fill-color);\n",
              "    }\n",
              "    80% {\n",
              "      border-color: transparent;\n",
              "      border-right-color: var(--fill-color);\n",
              "      border-bottom-color: var(--fill-color);\n",
              "    }\n",
              "    90% {\n",
              "      border-color: transparent;\n",
              "      border-bottom-color: var(--fill-color);\n",
              "    }\n",
              "  }\n",
              "</style>\n",
              "\n",
              "  <script>\n",
              "    async function quickchart(key) {\n",
              "      const quickchartButtonEl =\n",
              "        document.querySelector('#' + key + ' button');\n",
              "      quickchartButtonEl.disabled = true;  // To prevent multiple clicks.\n",
              "      quickchartButtonEl.classList.add('colab-df-spinner');\n",
              "      try {\n",
              "        const charts = await google.colab.kernel.invokeFunction(\n",
              "            'suggestCharts', [key], {});\n",
              "      } catch (error) {\n",
              "        console.error('Error during call to suggestCharts:', error);\n",
              "      }\n",
              "      quickchartButtonEl.classList.remove('colab-df-spinner');\n",
              "      quickchartButtonEl.classList.add('colab-df-quickchart-complete');\n",
              "    }\n",
              "    (() => {\n",
              "      let quickchartButtonEl =\n",
              "        document.querySelector('#df-e21aa952-2e29-44b2-8a37-9ddc8a08319f button');\n",
              "      quickchartButtonEl.style.display =\n",
              "        google.colab.kernel.accessAllowed ? 'block' : 'none';\n",
              "    })();\n",
              "  </script>\n",
              "</div>\n",
              "\n",
              "    </div>\n",
              "  </div>\n"
            ],
            "application/vnd.google.colaboratory.intrinsic+json": {
              "type": "dataframe",
              "summary": "{\n  \"name\": \"frequencies\",\n  \"rows\": 2,\n  \"fields\": [\n    {\n      \"column\": \"sentiment\",\n      \"properties\": {\n        \"dtype\": \"number\",\n        \"std\": 0,\n        \"min\": 25000,\n        \"max\": 25000,\n        \"num_unique_values\": 1,\n        \"samples\": [\n          25000\n        ],\n        \"semantic_type\": \"\",\n        \"description\": \"\"\n      }\n    }\n  ]\n}"
            }
          },
          "metadata": {},
          "execution_count": 5
        }
      ]
    },
    {
      "cell_type": "code",
      "source": [
        "pip install keras==2.12.0"
      ],
      "metadata": {
        "colab": {
          "base_uri": "https://localhost:8080/"
        },
        "id": "BbtKnrmhcmH0",
        "outputId": "7cebeb22-21d7-4068-f8b1-13ef5b670f50"
      },
      "execution_count": null,
      "outputs": [
        {
          "output_type": "stream",
          "name": "stdout",
          "text": [
            "Requirement already satisfied: keras==2.12.0 in /usr/local/lib/python3.10/dist-packages (2.12.0)\n"
          ]
        }
      ]
    },
    {
      "cell_type": "code",
      "source": [
        "from tensorflow.keras.models import Sequential\n",
        "from tensorflow.keras import layers\n",
        "from tensorflow.keras.optimizers import RMSprop\n",
        "from tensorflow.keras.preprocessing.text import Tokenizer\n",
        "from tensorflow.keras.preprocessing.sequence import pad_sequences\n",
        "from keras.wrappers.scikit_learn import KerasClassifier\n",
        "from sklearn.model_selection import GridSearchCV\n",
        "from tensorflow.keras.callbacks import EarlyStopping\n",
        "from tensorflow.keras import regularizers\n",
        "from tensorflow import keras\n",
        "from kerastuner import GridSearch\n",
        "from kerastuner.engine.hyperparameters import HyperParameters\n",
        "from sklearn.model_selection import RandomizedSearchCV"
      ],
      "metadata": {
        "id": "HS8XurDm2agD"
      },
      "execution_count": null,
      "outputs": []
    },
    {
      "cell_type": "code",
      "source": [
        "df.sentiment.replace(\"positive\" , 1 , inplace = True)\n",
        "df.sentiment.replace(\"negative\" , 0 , inplace = True)\n",
        "X = df.review\n",
        "y = df.sentiment"
      ],
      "metadata": {
        "id": "CcPT3f8t3C7Z"
      },
      "execution_count": null,
      "outputs": []
    },
    {
      "cell_type": "code",
      "source": [
        "x_train, x_test, y_train,y_test = train_test_split(X, y, test_size=0.20, random_state= 0 , stratify= y)\n",
        "print('X_train shape --> ', x_train.shape)\n",
        "print('y_train shape --> ', y_train.shape)\n",
        "print('X_test shape --> ', x_test.shape)\n",
        "print('y_test shape --> ', y_test.shape)"
      ],
      "metadata": {
        "colab": {
          "base_uri": "https://localhost:8080/"
        },
        "id": "KsQQbX2b3DSy",
        "outputId": "2c8cecbe-db9a-4dc9-9d42-6b98a62d6ae5"
      },
      "execution_count": null,
      "outputs": [
        {
          "output_type": "stream",
          "name": "stdout",
          "text": [
            "X_train shape -->  (40000,)\n",
            "y_train shape -->  (40000,)\n",
            "X_test shape -->  (10000,)\n",
            "y_test shape -->  (10000,)\n"
          ]
        }
      ]
    },
    {
      "cell_type": "code",
      "source": [
        "word_tokenizer = Tokenizer()\n",
        "word_tokenizer.fit_on_texts(x_train)\n",
        "\n",
        "X_train = word_tokenizer.texts_to_sequences(x_train)\n",
        "X_test = word_tokenizer.texts_to_sequences(x_test)"
      ],
      "metadata": {
        "id": "DMgfCxim4VtG"
      },
      "execution_count": null,
      "outputs": []
    },
    {
      "cell_type": "code",
      "source": [
        "vocab_length = len(word_tokenizer.word_index) + 1\n",
        "\n",
        "vocab_length"
      ],
      "metadata": {
        "colab": {
          "base_uri": "https://localhost:8080/"
        },
        "id": "54-c_gWr4WDR",
        "outputId": "d7fb683f-6e9a-4baf-8b8a-948145530428"
      },
      "execution_count": null,
      "outputs": [
        {
          "output_type": "execute_result",
          "data": {
            "text/plain": [
              "168143"
            ]
          },
          "metadata": {},
          "execution_count": 11
        }
      ]
    },
    {
      "cell_type": "code",
      "source": [
        "max_sequence_len = 100\n",
        "\n",
        "X_train = pad_sequences(X_train, padding='post', maxlen=max_sequence_len)\n",
        "X_test = pad_sequences(X_test, padding='post', maxlen=max_sequence_len)"
      ],
      "metadata": {
        "id": "kxfjoRwB48mB"
      },
      "execution_count": null,
      "outputs": []
    },
    {
      "cell_type": "code",
      "source": [
        "from gensim.scripts.glove2word2vec import glove2word2vec\n",
        "\n",
        "# Load GloVe word embeddings and create an Embeddings Dictionary\n",
        "\n",
        "from numpy import asarray\n",
        "from numpy import zeros\n",
        "\n",
        "embeddings_dictionary = dict()\n",
        "\n",
        "glove_file = open('/content/drive/MyDrive/Colab Notebooks/Text Analysis and Sentiment Analysis/Assignment/glove.6B/glove.6B.300d.txt', encoding=\"utf8\")\n",
        "\n",
        "for line in glove_file:\n",
        "    records = line.split()\n",
        "    word = records[0]\n",
        "    vector_dimensions = asarray(records[1:], dtype='float32')\n",
        "    embeddings_dictionary [word] = vector_dimensions\n",
        "glove_file.close()"
      ],
      "metadata": {
        "id": "mVUCo-J25CqX"
      },
      "execution_count": null,
      "outputs": []
    },
    {
      "cell_type": "code",
      "source": [
        "# Create Embedding Matrix having 300 columns\n",
        "# Containing 300-dimensional GloVe word embeddings for all words in our corpus.\n",
        "\n",
        "embedding_matrix = zeros((vocab_length, 300))\n",
        "for word, index in word_tokenizer.word_index.items():\n",
        "    embedding_vector = embeddings_dictionary.get(word)\n",
        "    if embedding_vector is not None:\n",
        "        embedding_matrix[index] = embedding_vector\n",
        "embedding_matrix.shape"
      ],
      "metadata": {
        "colab": {
          "base_uri": "https://localhost:8080/"
        },
        "id": "EWqUsGir9a_p",
        "outputId": "aad04ecf-0675-4b25-ff2d-187e3ad46b4b"
      },
      "execution_count": null,
      "outputs": [
        {
          "output_type": "execute_result",
          "data": {
            "text/plain": [
              "(168143, 300)"
            ]
          },
          "metadata": {},
          "execution_count": 14
        }
      ]
    },
    {
      "cell_type": "code",
      "source": [
        "# Define the model creation function\n",
        "def create_model(filters=32, kernel_size=7, optimizer='adam', dropout_rate=0.2):\n",
        "    model = Sequential()\n",
        "    model.add(layers.Embedding(vocab_length, 300, weights=[embedding_matrix], input_length=max_sequence_len, trainable=False))\n",
        "    model.add(layers.Conv1D(filters, kernel_size, activation='relu'))\n",
        "    model.add(layers.MaxPooling1D(5))\n",
        "    model.add(layers.Dropout(dropout_rate))\n",
        "    model.add(layers.Conv1D(filters, kernel_size, activation='relu'))\n",
        "    model.add(layers.GlobalMaxPooling1D())\n",
        "    model.add(layers.Dense(1, activation='sigmoid'))\n",
        "    model.compile(optimizer=optimizer, loss='binary_crossentropy', metrics=['accuracy'])\n",
        "    return model"
      ],
      "metadata": {
        "id": "G2RtbIl7XM2J"
      },
      "execution_count": null,
      "outputs": []
    },
    {
      "cell_type": "code",
      "source": [
        "# # Create the Keras classifier\n",
        "model = KerasClassifier(build_fn=create_model)"
      ],
      "metadata": {
        "colab": {
          "base_uri": "https://localhost:8080/"
        },
        "id": "DArZFv5HZWW8",
        "outputId": "dacd5b6a-ca33-4862-c295-fb7e182e34c9"
      },
      "execution_count": null,
      "outputs": [
        {
          "output_type": "stream",
          "name": "stderr",
          "text": [
            "<ipython-input-21-d40e9de6683e>:2: DeprecationWarning: KerasClassifier is deprecated, use Sci-Keras (https://github.com/adriangb/scikeras) instead. See https://www.adriangb.com/scikeras/stable/migration.html for help migrating.\n",
            "  model = KerasClassifier(build_fn=create_model)\n"
          ]
        }
      ]
    },
    {
      "cell_type": "code",
      "source": [
        "# Define the hyperparameters grid\n",
        "param_grid = {\n",
        "    'filters': [16, 32, 64],\n",
        "    'kernel_size': [3, 5, 7],\n",
        "    'batch_size': [32, 64, 128],\n",
        "    'optimizer': ['adam', 'sgd'],\n",
        "}"
      ],
      "metadata": {
        "id": "v-kahT_WZyAZ"
      },
      "execution_count": null,
      "outputs": []
    },
    {
      "cell_type": "code",
      "source": [
        "# Define the early stopping callback\n",
        "\n",
        "early_stopping = EarlyStopping(monitor='loss', patience=3)"
      ],
      "metadata": {
        "id": "qjrvhZ7GeL6l"
      },
      "execution_count": null,
      "outputs": []
    },
    {
      "cell_type": "markdown",
      "source": [
        "**CONDUCTING GRID SEARCH FOR THE MODEL.**"
      ],
      "metadata": {
        "id": "Q5fXwFNUFknt"
      }
    },
    {
      "cell_type": "code",
      "source": [
        "# Create a RandomizedSearchCV object\n",
        "random_search = RandomizedSearchCV(model, param_grid, cv=3, n_iter=10, random_state=42)"
      ],
      "metadata": {
        "id": "94D0nibweOem"
      },
      "execution_count": null,
      "outputs": []
    },
    {
      "cell_type": "code",
      "source": [
        "# Fit the random search with early stopping\n",
        "random_result = random_search.fit(X_train, y_train, callbacks=[early_stopping])"
      ],
      "metadata": {
        "colab": {
          "base_uri": "https://localhost:8080/"
        },
        "id": "phqSt6omeTdt",
        "outputId": "2077bc05-2b06-4acb-d457-b37463195c58"
      },
      "execution_count": null,
      "outputs": [
        {
          "output_type": "stream",
          "name": "stdout",
          "text": [
            "417/417 [==============================] - 7s 7ms/step - loss: 0.6819 - accuracy: 0.5673\n",
            "209/209 [==============================] - 1s 3ms/step - loss: 0.6511 - accuracy: 0.6638\n",
            "417/417 [==============================] - 3s 5ms/step - loss: 0.6870 - accuracy: 0.5558\n",
            "209/209 [==============================] - 1s 3ms/step - loss: 0.6586 - accuracy: 0.6386\n",
            "417/417 [==============================] - 3s 4ms/step - loss: 0.6544 - accuracy: 0.6089\n",
            "209/209 [==============================] - 1s 3ms/step - loss: 0.5966 - accuracy: 0.7034\n",
            "209/209 [==============================] - 4s 7ms/step - loss: 0.6868 - accuracy: 0.5492\n",
            "105/105 [==============================] - 0s 3ms/step - loss: 0.6579 - accuracy: 0.6429\n",
            "209/209 [==============================] - 2s 6ms/step - loss: 0.6826 - accuracy: 0.5588\n",
            "105/105 [==============================] - 1s 3ms/step - loss: 0.6641 - accuracy: 0.6105\n",
            "209/209 [==============================] - 2s 5ms/step - loss: 0.6832 - accuracy: 0.5615\n",
            "105/105 [==============================] - 0s 3ms/step - loss: 0.6586 - accuracy: 0.6498\n",
            "209/209 [==============================] - 3s 7ms/step - loss: 0.4863 - accuracy: 0.7586\n",
            "105/105 [==============================] - 1s 4ms/step - loss: 0.3798 - accuracy: 0.8319\n",
            "209/209 [==============================] - 2s 5ms/step - loss: 0.4901 - accuracy: 0.7538\n",
            "105/105 [==============================] - 0s 3ms/step - loss: 0.3817 - accuracy: 0.8303\n",
            "209/209 [==============================] - 2s 6ms/step - loss: 0.4856 - accuracy: 0.7567\n",
            "105/105 [==============================] - 0s 3ms/step - loss: 0.3791 - accuracy: 0.8307\n",
            "834/834 [==============================] - 7s 6ms/step - loss: 0.4353 - accuracy: 0.7922\n",
            "417/417 [==============================] - 1s 3ms/step - loss: 0.3975 - accuracy: 0.8137\n",
            "834/834 [==============================] - 6s 6ms/step - loss: 0.4413 - accuracy: 0.7874\n",
            "417/417 [==============================] - 2s 3ms/step - loss: 0.3909 - accuracy: 0.8234\n",
            "834/834 [==============================] - 5s 5ms/step - loss: 0.4447 - accuracy: 0.7841\n",
            "417/417 [==============================] - 1s 3ms/step - loss: 0.3590 - accuracy: 0.8397\n",
            "209/209 [==============================] - 4s 8ms/step - loss: 0.5303 - accuracy: 0.7227\n",
            "105/105 [==============================] - 1s 5ms/step - loss: 0.4317 - accuracy: 0.7992\n",
            "209/209 [==============================] - 2s 6ms/step - loss: 0.5025 - accuracy: 0.7473\n",
            "105/105 [==============================] - 1s 4ms/step - loss: 0.3967 - accuracy: 0.8230\n",
            "209/209 [==============================] - 2s 5ms/step - loss: 0.4864 - accuracy: 0.7570\n",
            "105/105 [==============================] - 0s 3ms/step - loss: 0.4037 - accuracy: 0.8154\n",
            "834/834 [==============================] - 6s 6ms/step - loss: 0.6442 - accuracy: 0.6249\n",
            "417/417 [==============================] - 1s 3ms/step - loss: 0.5659 - accuracy: 0.7182\n",
            "834/834 [==============================] - 6s 6ms/step - loss: 0.5859 - accuracy: 0.6842\n",
            "417/417 [==============================] - 2s 3ms/step - loss: 0.4945 - accuracy: 0.7632\n",
            "834/834 [==============================] - 5s 5ms/step - loss: 0.5936 - accuracy: 0.6698\n",
            "417/417 [==============================] - 1s 3ms/step - loss: 0.4756 - accuracy: 0.7790\n",
            "834/834 [==============================] - 7s 7ms/step - loss: 0.5941 - accuracy: 0.6736\n",
            "417/417 [==============================] - 2s 4ms/step - loss: 0.4874 - accuracy: 0.7701\n",
            "834/834 [==============================] - 6s 7ms/step - loss: 0.5787 - accuracy: 0.6883\n",
            "417/417 [==============================] - 2s 3ms/step - loss: 0.5615 - accuracy: 0.7025\n",
            "834/834 [==============================] - 6s 7ms/step - loss: 0.5936 - accuracy: 0.6727\n",
            "417/417 [==============================] - 2s 3ms/step - loss: 0.5129 - accuracy: 0.7457\n",
            "209/209 [==============================] - 4s 9ms/step - loss: 0.4975 - accuracy: 0.7510\n",
            "105/105 [==============================] - 1s 4ms/step - loss: 0.3981 - accuracy: 0.8208\n",
            "209/209 [==============================] - 3s 7ms/step - loss: 0.4834 - accuracy: 0.7628\n",
            "105/105 [==============================] - 0s 3ms/step - loss: 0.3985 - accuracy: 0.8193\n",
            "209/209 [==============================] - 2s 6ms/step - loss: 0.4783 - accuracy: 0.7657\n",
            "105/105 [==============================] - 0s 3ms/step - loss: 0.3999 - accuracy: 0.8159\n",
            "834/834 [==============================] - 6s 6ms/step - loss: 0.6342 - accuracy: 0.6313\n",
            "417/417 [==============================] - 1s 3ms/step - loss: 0.5289 - accuracy: 0.7539\n",
            "834/834 [==============================] - 5s 6ms/step - loss: 0.6145 - accuracy: 0.6581\n",
            "417/417 [==============================] - 2s 4ms/step - loss: 0.5462 - accuracy: 0.7215\n",
            "834/834 [==============================] - 5s 5ms/step - loss: 0.6507 - accuracy: 0.6151\n",
            "417/417 [==============================] - 1s 3ms/step - loss: 0.5543 - accuracy: 0.7465\n",
            "417/417 [==============================] - 4s 6ms/step - loss: 0.4653 - accuracy: 0.7712\n",
            "209/209 [==============================] - 1s 4ms/step - loss: 0.3844 - accuracy: 0.8290\n",
            "417/417 [==============================] - 4s 6ms/step - loss: 0.4476 - accuracy: 0.7856\n",
            "209/209 [==============================] - 1s 4ms/step - loss: 0.3814 - accuracy: 0.8282\n",
            "417/417 [==============================] - 4s 6ms/step - loss: 0.4638 - accuracy: 0.7714\n",
            "209/209 [==============================] - 1s 3ms/step - loss: 0.3757 - accuracy: 0.8327\n",
            "313/313 [==============================] - 3s 6ms/step - loss: 0.4448 - accuracy: 0.7864\n"
          ]
        }
      ]
    },
    {
      "cell_type": "code",
      "source": [
        "# Print the best parameters and score\n",
        "print(\"Best: %f using %s\" % (random_result.best_score_, random_result.best_params_))"
      ],
      "metadata": {
        "colab": {
          "base_uri": "https://localhost:8080/"
        },
        "id": "1Vto-sZYeTU0",
        "outputId": "28c48387-705b-4f01-bfb9-d71650fb15cd"
      },
      "execution_count": null,
      "outputs": [
        {
          "output_type": "stream",
          "name": "stdout",
          "text": [
            "Best: 0.830950 using {'optimizer': 'adam', 'kernel_size': 3, 'filters': 64, 'batch_size': 128}\n"
          ]
        }
      ]
    },
    {
      "cell_type": "code",
      "source": [
        "# Get the best model and its parameters\n",
        "best_model = random_result.best_estimator_\n",
        "best_params = random_result.best_params_\n"
      ],
      "metadata": {
        "id": "BJRnKUk6yIZX"
      },
      "execution_count": null,
      "outputs": []
    },
    {
      "cell_type": "code",
      "source": [
        "\n",
        "# Train the best model to obtain the training history\n",
        "history = best_model.fit(X_train, y_train, epochs=30, batch_size=32, validation_data=(X_test, y_test), callbacks=[early_stopping])\n",
        "\n",
        "# Extract loss and accuracy values from the training history\n",
        "loss = history.history['loss']\n",
        "val_loss = history.history['val_loss']\n",
        "accuracy = history.history['accuracy']\n",
        "val_accuracy = history.history['val_accuracy']\n",
        "\n",
        "# Plot the loss curve\n",
        "plt.figure(figsize=(8, 6))\n",
        "plt.plot(loss, label='Training Loss')\n",
        "plt.plot(val_loss, label='Validation Loss')\n",
        "plt.xlabel('Epochs')\n",
        "plt.ylabel('Loss')\n",
        "plt.title('Training and Validation Loss')\n",
        "plt.legend()\n",
        "plt.grid(True)\n",
        "plt.show()\n",
        "\n",
        "# Plot the accuracy curve\n",
        "plt.figure(figsize=(8, 6))\n",
        "plt.plot(accuracy, label='Training Accuracy')\n",
        "plt.plot(val_accuracy, label='Validation Accuracy')\n",
        "plt.xlabel('Epochs')\n",
        "plt.ylabel('Accuracy')\n",
        "plt.title('Training and Validation Accuracy')\n",
        "plt.legend()\n",
        "plt.grid(True)\n",
        "plt.show()"
      ],
      "metadata": {
        "colab": {
          "base_uri": "https://localhost:8080/",
          "height": 1000
        },
        "id": "su-fFRB26lgA",
        "outputId": "6c6d9ea4-b2c4-497a-d097-940b7e6af30a"
      },
      "execution_count": null,
      "outputs": [
        {
          "output_type": "stream",
          "name": "stdout",
          "text": [
            "Epoch 1/30\n",
            "1250/1250 [==============================] - 8s 5ms/step - loss: 0.4179 - accuracy: 0.8059 - val_loss: 0.3628 - val_accuracy: 0.8348\n",
            "Epoch 2/30\n",
            "1250/1250 [==============================] - 7s 5ms/step - loss: 0.3378 - accuracy: 0.8518 - val_loss: 0.3469 - val_accuracy: 0.8480\n",
            "Epoch 3/30\n",
            "1250/1250 [==============================] - 9s 7ms/step - loss: 0.3039 - accuracy: 0.8702 - val_loss: 0.3407 - val_accuracy: 0.8502\n",
            "Epoch 4/30\n",
            "1250/1250 [==============================] - 10s 8ms/step - loss: 0.2760 - accuracy: 0.8811 - val_loss: 0.3244 - val_accuracy: 0.8593\n",
            "Epoch 5/30\n",
            "1250/1250 [==============================] - 6s 5ms/step - loss: 0.2463 - accuracy: 0.8981 - val_loss: 0.3309 - val_accuracy: 0.8603\n",
            "Epoch 6/30\n",
            "1250/1250 [==============================] - 7s 5ms/step - loss: 0.2199 - accuracy: 0.9079 - val_loss: 0.3423 - val_accuracy: 0.8581\n",
            "Epoch 7/30\n",
            "1250/1250 [==============================] - 6s 5ms/step - loss: 0.2005 - accuracy: 0.9190 - val_loss: 0.3647 - val_accuracy: 0.8558\n",
            "Epoch 8/30\n",
            "1250/1250 [==============================] - 7s 5ms/step - loss: 0.1833 - accuracy: 0.9249 - val_loss: 0.3653 - val_accuracy: 0.8533\n",
            "Epoch 9/30\n",
            "1250/1250 [==============================] - 5s 4ms/step - loss: 0.1656 - accuracy: 0.9328 - val_loss: 0.3884 - val_accuracy: 0.8537\n",
            "Epoch 10/30\n",
            "1250/1250 [==============================] - 7s 6ms/step - loss: 0.1574 - accuracy: 0.9366 - val_loss: 0.3921 - val_accuracy: 0.8546\n",
            "Epoch 11/30\n",
            "1250/1250 [==============================] - 6s 4ms/step - loss: 0.1443 - accuracy: 0.9434 - val_loss: 0.4058 - val_accuracy: 0.8523\n",
            "Epoch 12/30\n",
            "1250/1250 [==============================] - 6s 5ms/step - loss: 0.1378 - accuracy: 0.9445 - val_loss: 0.4044 - val_accuracy: 0.8548\n",
            "Epoch 13/30\n",
            "1250/1250 [==============================] - 6s 5ms/step - loss: 0.1244 - accuracy: 0.9503 - val_loss: 0.4195 - val_accuracy: 0.8529\n",
            "Epoch 14/30\n",
            "1250/1250 [==============================] - 6s 5ms/step - loss: 0.1191 - accuracy: 0.9528 - val_loss: 0.4438 - val_accuracy: 0.8502\n",
            "Epoch 15/30\n",
            "1250/1250 [==============================] - 7s 6ms/step - loss: 0.1146 - accuracy: 0.9552 - val_loss: 0.4366 - val_accuracy: 0.8479\n",
            "Epoch 16/30\n",
            "1250/1250 [==============================] - 6s 5ms/step - loss: 0.1090 - accuracy: 0.9559 - val_loss: 0.4720 - val_accuracy: 0.8490\n",
            "Epoch 17/30\n",
            "1250/1250 [==============================] - 7s 5ms/step - loss: 0.1006 - accuracy: 0.9608 - val_loss: 0.5316 - val_accuracy: 0.8384\n",
            "Epoch 18/30\n",
            "1250/1250 [==============================] - 6s 5ms/step - loss: 0.1012 - accuracy: 0.9600 - val_loss: 0.5112 - val_accuracy: 0.8437\n",
            "Epoch 19/30\n",
            "1250/1250 [==============================] - 7s 5ms/step - loss: 0.0950 - accuracy: 0.9616 - val_loss: 0.5111 - val_accuracy: 0.8442\n",
            "Epoch 20/30\n",
            "1250/1250 [==============================] - 6s 4ms/step - loss: 0.0896 - accuracy: 0.9657 - val_loss: 0.4934 - val_accuracy: 0.8537\n",
            "Epoch 21/30\n",
            "1250/1250 [==============================] - 7s 6ms/step - loss: 0.0897 - accuracy: 0.9646 - val_loss: 0.4962 - val_accuracy: 0.8503\n",
            "Epoch 22/30\n",
            "1250/1250 [==============================] - 6s 5ms/step - loss: 0.0864 - accuracy: 0.9666 - val_loss: 0.5186 - val_accuracy: 0.8450\n",
            "Epoch 23/30\n",
            "1250/1250 [==============================] - 7s 5ms/step - loss: 0.0845 - accuracy: 0.9669 - val_loss: 0.5264 - val_accuracy: 0.8494\n",
            "Epoch 24/30\n",
            "1250/1250 [==============================] - 6s 5ms/step - loss: 0.0825 - accuracy: 0.9679 - val_loss: 0.5537 - val_accuracy: 0.8424\n",
            "Epoch 25/30\n",
            "1250/1250 [==============================] - 6s 5ms/step - loss: 0.0801 - accuracy: 0.9696 - val_loss: 0.5450 - val_accuracy: 0.8483\n",
            "Epoch 26/30\n",
            "1250/1250 [==============================] - 6s 5ms/step - loss: 0.0801 - accuracy: 0.9689 - val_loss: 0.5353 - val_accuracy: 0.8460\n",
            "Epoch 27/30\n",
            "1250/1250 [==============================] - 6s 4ms/step - loss: 0.0747 - accuracy: 0.9717 - val_loss: 0.5171 - val_accuracy: 0.8509\n",
            "Epoch 28/30\n",
            "1250/1250 [==============================] - 7s 5ms/step - loss: 0.0721 - accuracy: 0.9724 - val_loss: 0.5488 - val_accuracy: 0.8457\n",
            "Epoch 29/30\n",
            "1250/1250 [==============================] - 5s 4ms/step - loss: 0.0763 - accuracy: 0.9707 - val_loss: 0.5821 - val_accuracy: 0.8465\n",
            "Epoch 30/30\n",
            "1250/1250 [==============================] - 6s 5ms/step - loss: 0.0704 - accuracy: 0.9726 - val_loss: 0.5591 - val_accuracy: 0.8464\n"
          ]
        },
        {
          "output_type": "display_data",
          "data": {
            "text/plain": [
              "<Figure size 800x600 with 1 Axes>"
            ],
            "image/png": "[encoded data removed]"
          },
          "metadata": {}
        },
        {
          "output_type": "display_data",
          "data": {
            "text/plain": [
              "<Figure size 800x600 with 1 Axes>"
            ],
            "image/png": "[encoded data removed]"
          },
          "metadata": {}
        }
      ]
    },
    {
      "cell_type": "code",
      "source": [
        "import numpy as np\n",
        "import matplotlib.pyplot as plt\n",
        "from sklearn.metrics import confusion_matrix, classification_report\n",
        "\n",
        "# Evaluate the best model on the test set\n",
        "y_pred = best_model.predict(X_test)\n",
        "y_pred = np.round(y_pred).flatten()\n",
        "\n",
        "# Calculate accuracy\n",
        "accuracy = np.mean(y_pred == y_test)\n",
        "\n",
        "# Create a confusion matrix\n",
        "cm = confusion_matrix(y_test, y_pred)\n",
        "\n",
        "# Print classification report\n",
        "report = classification_report(y_test, y_pred)\n",
        "\n",
        "# Print accuracy and confusion matrix\n",
        "print(\"Accuracy:\", accuracy)\n",
        "print(\"Confusion Matrix:\\n\", cm)\n",
        "print(\"Classification Report:\\n\", report)\n",
        "\n",
        "# Plot the confusion matrix\n",
        "plt.figure(figsize=(8, 6))\n",
        "plt.imshow(cm, cmap=plt.cm.Blues)\n",
        "plt.title('Confusion Matrix')\n",
        "plt.colorbar()\n",
        "plt.xticks([0, 1], ['Negative', 'Positive'])\n",
        "plt.yticks([0, 1], ['Negative', 'Positive'])\n",
        "plt.xlabel('Predicted Label')\n",
        "plt.ylabel('True Label')\n",
        "plt.show()"
      ],
      "metadata": {
        "colab": {
          "base_uri": "https://localhost:8080/",
          "height": 824
        },
        "id": "AcinFAYGyxFU",
        "outputId": "48840697-0c30-46fd-f5a4-cc558af5c4c8"
      },
      "execution_count": null,
      "outputs": [
        {
          "output_type": "stream",
          "name": "stdout",
          "text": [
            "313/313 [==============================] - 1s 2ms/step\n",
            "Accuracy: 0.8464\n",
            "Confusion Matrix:\n",
            " [[4077  923]\n",
            " [ 613 4387]]\n",
            "Classification Report:\n",
            "               precision    recall  f1-score   support\n",
            "\n",
            "           0       0.87      0.82      0.84      5000\n",
            "           1       0.83      0.88      0.85      5000\n",
            "\n",
            "    accuracy                           0.85     10000\n",
            "   macro avg       0.85      0.85      0.85     10000\n",
            "weighted avg       0.85      0.85      0.85     10000\n",
            "\n"
          ]
        },
        {
          "output_type": "display_data",
          "data": {
            "text/plain": [
              "<Figure size 800x600 with 2 Axes>"
            ],
            "image/png": "[encoded data removed]"
          },
          "metadata": {}
        }
      ]
    }
  ]
}
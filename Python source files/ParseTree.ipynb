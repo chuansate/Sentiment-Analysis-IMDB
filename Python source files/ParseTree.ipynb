{
  "nbformat": 4,
  "nbformat_minor": 0,
  "metadata": {
    "colab": {
      "provenance": [],
      "gpuType": "T4"
    },
    "kernelspec": {
      "name": "python3",
      "display_name": "Python 3"
    },
    "language_info": {
      "name": "python"
    },
    "accelerator": "GPU"
  },
  "cells": [
    {
      "cell_type": "code",
      "execution_count": 4,
      "metadata": {
        "colab": {
          "base_uri": "https://localhost:8080/"
        },
        "id": "5NASkC9VuabV",
        "outputId": "d62cba5e-3166-40b3-80a9-5c807fbe9bdd"
      },
      "outputs": [
        {
          "output_type": "stream",
          "name": "stdout",
          "text": [
            "                               S                                        \n",
            "      _________________________|____________                             \n",
            "     |                                      VP                          \n",
            "     |                              ________|____________________        \n",
            "     |                             VP                |           |      \n",
            "     |                    _________|___              |           |       \n",
            "     NP                  |             PP            |           |      \n",
            "  ___|______________     |      _______|____         |           |       \n",
            " |      AdjP        |    |     |            NP       |           |      \n",
            " |    ___|_____     |    |     |    ________|____    |           |       \n",
            " |   |        AdjP  |    |     |   |       AdjP  |   |           VP     \n",
            " |   |         |    |    |     |   |        |    |   |      _____|___    \n",
            "Det Adj       Adj   N    V     P  Det      Adj   N  Conj   V        Adv \n",
            " |   |         |    |    |     |   |        |    |   |     |         |   \n",
            "The big      black dog barked  at the     white cat and  chased     away\n",
            "\n"
          ]
        }
      ],
      "source": [
        "import nltk\n",
        "\n",
        "# Define the grammar for parsing the sentence\n",
        "grammar = nltk.CFG.fromstring(\"\"\"\n",
        "  S -> NP VP\n",
        "  NP -> Det AdjP N | Det N\n",
        "  AdjP -> Adj AdjP | Adj\n",
        "  VP -> V NP PP | V PP | V NP | VP Conj VP\n",
        "  VP -> V Adv | V\n",
        "  Adv -> 'away'\n",
        "  PP -> P NP\n",
        "  Det -> 'The' | 'the'\n",
        "  N -> 'dog' | 'cat'\n",
        "  Adj -> 'big' | 'black' | 'white'\n",
        "  V -> 'barked' | 'chased'\n",
        "  P -> 'at'\n",
        "  Conj -> 'and'\n",
        "\"\"\")\n",
        "\n",
        "# Sentence to be parsed\n",
        "sentence = \"The big black dog barked at the white cat and chased away\"\n",
        "\n",
        "# Tokenize the sentence\n",
        "tokens = nltk.word_tokenize(sentence)\n",
        "\n",
        "# Create a parser with the defined grammar\n",
        "parser = nltk.ChartParser(grammar)\n",
        "\n",
        "# Generate parse trees\n",
        "trees = list(parser.parse(tokens))\n",
        "for tree in trees:\n",
        "    tree.pretty_print()\n"
      ]
    }
  ]
}
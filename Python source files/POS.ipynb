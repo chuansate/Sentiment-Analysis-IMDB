{
  "nbformat": 4,
  "nbformat_minor": 0,
  "metadata": {
    "colab": {
      "provenance": [],
      "gpuType": "T4"
    },
    "kernelspec": {
      "name": "python3",
      "display_name": "Python 3"
    },
    "language_info": {
      "name": "python"
    },
    "accelerator": "GPU"
  },
  "cells": [
    {
      "cell_type": "markdown",
      "source": [
        "# NLTK POS TAGGER"
      ],
      "metadata": {
        "id": "scnC-9sgeAAs"
      }
    },
    {
      "cell_type": "code",
      "execution_count": 1,
      "metadata": {
        "colab": {
          "base_uri": "https://localhost:8080/"
        },
        "id": "U-CeLlP2d5qo",
        "outputId": "201aab54-9902-4565-a0a0-83aaea928a3e"
      },
      "outputs": [
        {
          "output_type": "stream",
          "name": "stderr",
          "text": [
            "[nltk_data] Downloading package averaged_perceptron_tagger to\n",
            "[nltk_data]     /root/nltk_data...\n",
            "[nltk_data]   Unzipping taggers/averaged_perceptron_tagger.zip.\n",
            "[nltk_data] Downloading package punkt to /root/nltk_data...\n",
            "[nltk_data]   Unzipping tokenizers/punkt.zip.\n"
          ]
        },
        {
          "output_type": "stream",
          "name": "stdout",
          "text": [
            "NLTK POS Tagging: [('The', 'DT'), ('big', 'JJ'), ('black', 'JJ'), ('dog', 'NN'), ('barked', 'VBD'), ('at', 'IN'), ('the', 'DT'), ('white', 'JJ'), ('cat', 'NN'), ('and', 'CC'), ('chased', 'VBD'), ('away', 'RB'), ('.', '.')]\n"
          ]
        }
      ],
      "source": [
        "import nltk\n",
        "from nltk.tokenize import word_tokenize\n",
        "\n",
        "# Ensure the necessary NLTK resources are available\n",
        "nltk.download('averaged_perceptron_tagger')\n",
        "nltk.download('punkt')\n",
        "\n",
        "data = \"The big black dog barked at the white cat and chased away.\"\n",
        "\n",
        "# Tokenizing and POS Tagging using NLTK\n",
        "nltk_pos_tagged = nltk.pos_tag(word_tokenize(data))\n",
        "print(\"NLTK POS Tagging:\", nltk_pos_tagged)\n"
      ]
    },
    {
      "cell_type": "markdown",
      "source": [
        "# TextBlob POS Tagger\n"
      ],
      "metadata": {
        "id": "v0faUmloe6i8"
      }
    },
    {
      "cell_type": "code",
      "source": [
        "from textblob import TextBlob\n",
        "\n",
        "data = \"The big black dog barked at the white cat and chased away.\"\n",
        "\n",
        "# Creating a TextBlob object and POS Tagging using TextBlob\n",
        "tb = TextBlob(data)\n",
        "textblob_pos_tagged = tb.tags\n",
        "print(\"TextBlob POS Tagging:\", textblob_pos_tagged)"
      ],
      "metadata": {
        "colab": {
          "base_uri": "https://localhost:8080/"
        },
        "id": "8WZwfXX2fDse",
        "outputId": "73fd4168-2fa5-4fb2-9029-5c211e2dc21d"
      },
      "execution_count": 2,
      "outputs": [
        {
          "output_type": "stream",
          "name": "stdout",
          "text": [
            "TextBlob POS Tagging: [('The', 'DT'), ('big', 'JJ'), ('black', 'JJ'), ('dog', 'NN'), ('barked', 'VBD'), ('at', 'IN'), ('the', 'DT'), ('white', 'JJ'), ('cat', 'NN'), ('and', 'CC'), ('chased', 'VBD'), ('away', 'RB')]\n"
          ]
        }
      ]
    },
    {
      "cell_type": "markdown",
      "source": [
        "#Regular Expression Tagger"
      ],
      "metadata": {
        "id": "ykg-dfRpfOw9"
      }
    },
    {
      "cell_type": "code",
      "source": [
        "import nltk\n",
        "from nltk.tokenize import word_tokenize\n",
        "from nltk.tag import RegexpTagger\n",
        "\n",
        "data = \"The big black dog barked at the white cat and chased away.\"\n",
        "\n",
        "# Define the regex patterns for POS tagging\n",
        "patterns = [\n",
        "    (r'^-?[0-9]+(.[0-9]+)?$', 'CD'),   # cardinal numbers\n",
        "    (r'(The|the|A|a|An|an)$', 'DT'),   # articles\n",
        "    (r'.*able$', 'JJ'),                # adjectives\n",
        "    (r'.*ness$', 'NN'),                # nouns formed from adjectives\n",
        "    (r'.*ly$', 'RB'),                  # adverbs\n",
        "    (r'.*\\'s$', 'POS'),                # possessive nouns\n",
        "    (r'.*ment$', 'NN'),                # nouns that end in -ment\n",
        "    (r'.*town$', 'NN'),                # nouns that end in -town\n",
        "    (r'.*ness$', 'NN'),                # nouns ending in -ness\n",
        "    (r'.*ing$', 'VBG'),                # gerunds\n",
        "    (r'.*ed$', 'VBD'),                 # simple past\n",
        "    (r'.*es$', 'VBZ'),                 # 3rd singular present\n",
        "    (r'^[A-Z].*$', 'NNP'),             # proper nouns\n",
        "    (r'.*ould$', 'MD'),                # modals\n",
        "    (r'.*s$', 'NNS'),                  # plural nouns\n",
        "    (r'.*', 'NN')                      # nouns (default)\n",
        "]\n",
        "\n",
        "# Apply the Regular Expression Tagger\n",
        "regexp_tagger = RegexpTagger(patterns)\n",
        "regexp_pos_tagged = regexp_tagger.tag(word_tokenize(data))\n",
        "print(\"Regular Expression POS Tagging:\", regexp_pos_tagged)\n"
      ],
      "metadata": {
        "colab": {
          "base_uri": "https://localhost:8080/"
        },
        "id": "PgyWFVaJfTq4",
        "outputId": "d9c02b4e-0893-4d55-d7de-05cb7015e787"
      },
      "execution_count": 3,
      "outputs": [
        {
          "output_type": "stream",
          "name": "stdout",
          "text": [
            "Regular Expression POS Tagging: [('The', 'DT'), ('big', 'NN'), ('black', 'NN'), ('dog', 'NN'), ('barked', 'VBD'), ('at', 'NN'), ('the', 'DT'), ('white', 'NN'), ('cat', 'NN'), ('and', 'NN'), ('chased', 'VBD'), ('away', 'NN'), ('.', 'NN')]\n"
          ]
        }
      ]
    }
  ]
}